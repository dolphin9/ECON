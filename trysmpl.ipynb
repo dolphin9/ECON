{
 "cells": [
  {
   "cell_type": "code",
   "execution_count": 82,
   "metadata": {},
   "outputs": [],
   "source": [
    "from lib.dataset.mesh_util import *\n",
    "#from lib.smplx.body_models import SMPLX\n",
    "from lib.dataset.TestDataset import TestDataset\n",
    "from lib.common.config import cfg\n",
    "from lib.pymafx.core import path_config\n",
    "import numpy as np"
   ]
  },
  {
   "cell_type": "code",
   "execution_count": 83,
   "metadata": {},
   "outputs": [],
   "source": [
    "SMPLX_object = SMPLX()"
   ]
  },
  {
   "cell_type": "code",
   "execution_count": 84,
   "metadata": {},
   "outputs": [
    {
     "data": {
      "text/plain": [
       "device(type='cuda')"
      ]
     },
     "execution_count": 84,
     "metadata": {},
     "output_type": "execute_result"
    }
   ],
   "source": [
    "if torch.cuda.is_available():\n",
    "    device = torch.device(\"cuda\")\n",
    "else:\n",
    "    device = torch.device(\"cpu\")\n",
    "device"
   ]
  },
  {
   "attachments": {},
   "cell_type": "markdown",
   "metadata": {},
   "source": [
    "Type of each parameter in 'dataset_param':\n",
    "\n",
    "    <class 'str'>\n",
    "    <class 'NoneType'>\n",
    "    <class 'bool'>\n",
    "    <class 'str'>\n",
    "    <class 'int'>\n",
    "    <class 'bool'>"
   ]
  },
  {
   "cell_type": "code",
   "execution_count": 85,
   "metadata": {},
   "outputs": [],
   "source": [
    "dataset_param = {\n",
    "        \"image_dir\": './examples/testimg/',\n",
    "        \"seg_dir\": None,\n",
    "        \"use_seg\": True,    # w/ or w/o segmentation\n",
    "        \"hps_type\": 'pymafx' ,   # pymafx/pixie\n",
    "        \"vol_res\": cfg.vol_res,\n",
    "        \"single\": False, #args.multi,\n",
    "    }\n"
   ]
  },
  {
   "cell_type": "code",
   "execution_count": 86,
   "metadata": {},
   "outputs": [
    {
     "data": {
      "text/plain": [
       "True"
      ]
     },
     "execution_count": 86,
     "metadata": {},
     "output_type": "execute_result"
    }
   ],
   "source": [
    "path_config.pymafx_data_dir = \"./data/HPS/pymafx_data\"\n",
    "\n",
    "os.path.exists(path_config.pymafx_data_dir)"
   ]
  },
  {
   "cell_type": "code",
   "execution_count": 87,
   "metadata": {},
   "outputs": [
    {
     "name": "stdout",
     "output_type": "stream",
     "text": [
      "<class 'numpy.lib.npyio.NpzFile'>\n",
      "global_orient\n",
      "body_pose\n",
      "left_hand_pose\n",
      "right_hand_pose\n",
      "jaw_pose\n",
      "leye_pose\n",
      "reye_pose\n",
      "betas\n",
      "expression\n",
      "transl\n"
     ]
    }
   ],
   "source": [
    "param_npz = np.load('./00006_0.npz' , allow_pickle=True)\n",
    "print(type(param_npz))\n",
    "for item in param_npz:\n",
    "    print (item)"
   ]
  },
  {
   "cell_type": "code",
   "execution_count": 88,
   "metadata": {},
   "outputs": [],
   "source": [
    "param = {key: torch.as_tensor(param_npz[key]) for key in param_npz.keys()}"
   ]
  },
  {
   "cell_type": "code",
   "execution_count": 89,
   "metadata": {},
   "outputs": [
    {
     "name": "stdout",
     "output_type": "stream",
     "text": [
      "global_orient\n",
      "body_pose\n",
      "left_hand_pose\n",
      "right_hand_pose\n",
      "jaw_pose\n",
      "leye_pose\n",
      "reye_pose\n",
      "betas\n",
      "expression\n",
      "transl\n"
     ]
    }
   ],
   "source": [
    "for item in param_npz:\n",
    "    print (item)"
   ]
  },
  {
   "cell_type": "code",
   "execution_count": 90,
   "metadata": {},
   "outputs": [
    {
     "name": "stdout",
     "output_type": "stream",
     "text": [
      "global_orient\n",
      "body_pose\n",
      "left_hand_pose\n",
      "right_hand_pose\n",
      "jaw_pose\n",
      "leye_pose\n",
      "reye_pose\n",
      "betas\n",
      "expression\n",
      "transl\n"
     ]
    }
   ],
   "source": [
    "\n",
    "for key in param.keys():\n",
    "    print(key)"
   ]
  },
  {
   "cell_type": "code",
   "execution_count": 91,
   "metadata": {},
   "outputs": [],
   "source": [
    "from apps.infer import view_dict_items"
   ]
  },
  {
   "cell_type": "code",
   "execution_count": 92,
   "metadata": {},
   "outputs": [
    {
     "name": "stdout",
     "output_type": "stream",
     "text": [
      "global_orient: torch.Size([1, 3])\n",
      "body_pose: torch.Size([21, 3])\n",
      "left_hand_pose: torch.Size([15, 3])\n",
      "right_hand_pose: torch.Size([15, 3])\n",
      "jaw_pose: torch.Size([1, 3])\n",
      "leye_pose: torch.Size([1, 3])\n",
      "reye_pose: torch.Size([1, 3])\n",
      "betas: torch.Size([1, 10])\n",
      "expression: torch.Size([1, 10])\n",
      "transl: torch.Size([1, 3])\n"
     ]
    }
   ],
   "source": [
    "view_dict_items(param)"
   ]
  },
  {
   "cell_type": "code",
   "execution_count": 93,
   "metadata": {},
   "outputs": [],
   "source": [
    "#SMPLX_object = SMPLX('00006_0.npz')"
   ]
  },
  {
   "cell_type": "code",
   "execution_count": 96,
   "metadata": {},
   "outputs": [
    {
     "name": "stdout",
     "output_type": "stream",
     "text": [
      "betas :  torch.Size([1, 200])\n",
      "body_pose :  torch.Size([1, 21, 3])\n",
      "global_orient :  torch.Size([1, 1, 3])\n",
      "transl :  torch.Size([1, 3])\n",
      "expression :  torch.Size([1, 50])\n",
      "jaw_pose :  torch.Size([1, 1, 3])\n",
      "left_hand_pose :  torch.Size([1, 15, 3])\n",
      "right_hand_pose :  torch.Size([1, 15, 3])\n",
      "scale :  torch.Size([1, 1])\n",
      "tensor([[1.0443]])\n"
     ]
    }
   ],
   "source": [
    "data = np.load('./pymafx_results/econ/obj/300_smpl_00.npy',allow_pickle=True)\n",
    "#print(data)\n",
    "data= data.tolist()\n",
    "for item in data:\n",
    "    print(item,': ',data[item].shape)\n",
    "\n",
    "print(data['scale'])"
   ]
  },
  {
   "cell_type": "code",
   "execution_count": 95,
   "metadata": {},
   "outputs": [
    {
     "ename": "AttributeError",
     "evalue": "'numpy.ndarray' object has no attribute 'keys'",
     "output_type": "error",
     "traceback": [
      "\u001b[0;31m---------------------------------------------------------------------------\u001b[0m",
      "\u001b[0;31mAttributeError\u001b[0m                            Traceback (most recent call last)",
      "Cell \u001b[0;32mIn[95], line 1\u001b[0m\n\u001b[0;32m----> 1\u001b[0m smpl_mesh,smpl_joint \u001b[39m=\u001b[39m load_fit_body(fitted_path\u001b[39m=\u001b[39;49m\u001b[39m'\u001b[39;49m\u001b[39m./results/econ/obj/000023_smpl_00.npy\u001b[39;49m\u001b[39m'\u001b[39;49m,scale\u001b[39m=\u001b[39;49m\u001b[39m1\u001b[39;49m)\n",
      "File \u001b[0;32m~/ECON/lib/dataset/mesh_util.py:210\u001b[0m, in \u001b[0;36mload_fit_body\u001b[0;34m(fitted_path, scale, smpl_type, smpl_gender, noise_dict)\u001b[0m\n\u001b[1;32m    203\u001b[0m param \u001b[39m=\u001b[39m np\u001b[39m.\u001b[39mload(fitted_path, allow_pickle\u001b[39m=\u001b[39m\u001b[39mTrue\u001b[39;00m)\n\u001b[1;32m    204\u001b[0m \u001b[39m# if type(param_npz) == np.lib.npyio.NpzFile:\u001b[39;00m\n\u001b[1;32m    205\u001b[0m \u001b[39m#     param = {key: torch.as_tensor(param_npz[key]) for key in param_npz.keys()}\u001b[39;00m\n\u001b[1;32m    206\u001b[0m \u001b[39m# else:\u001b[39;00m\n\u001b[1;32m    207\u001b[0m \u001b[39m#     param = param_npz\u001b[39;00m\n\u001b[0;32m--> 210\u001b[0m \u001b[39mfor\u001b[39;00m key \u001b[39min\u001b[39;00m param\u001b[39m.\u001b[39;49mkeys():\n\u001b[1;32m    211\u001b[0m     param[key] \u001b[39m=\u001b[39m torch\u001b[39m.\u001b[39mas_tensor(param[key])\n\u001b[1;32m    213\u001b[0m \u001b[39m#get the original model 获得原始模型\u001b[39;00m\n",
      "\u001b[0;31mAttributeError\u001b[0m: 'numpy.ndarray' object has no attribute 'keys'"
     ]
    }
   ],
   "source": [
    "smpl_mesh,smpl_joint = load_fit_body(fitted_path='./results/econ/obj/000023_smpl_00.npy',scale=1)"
   ]
  }
 ],
 "metadata": {
  "kernelspec": {
   "display_name": "Python 3",
   "language": "python",
   "name": "python3"
  },
  "language_info": {
   "codemirror_mode": {
    "name": "ipython",
    "version": 3
   },
   "file_extension": ".py",
   "mimetype": "text/x-python",
   "name": "python",
   "nbconvert_exporter": "python",
   "pygments_lexer": "ipython3",
   "version": "3.8.19"
  },
  "orig_nbformat": 4
 },
 "nbformat": 4,
 "nbformat_minor": 2
}
