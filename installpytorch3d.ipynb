{
 "cells": [
  {
   "cell_type": "code",
   "execution_count": 3,
   "metadata": {},
   "outputs": [
    {
     "name": "stdout",
     "output_type": "stream",
     "text": [
      "Requirement already satisfied: fvcore in /home/s5627488/miniforge3/envs/smpler-x/lib/python3.8/site-packages (0.1.5.post20221221)\n",
      "Requirement already satisfied: iopath in /home/s5627488/miniforge3/envs/smpler-x/lib/python3.8/site-packages (0.1.10)\n",
      "Requirement already satisfied: numpy in /home/s5627488/miniforge3/envs/smpler-x/lib/python3.8/site-packages (from fvcore) (1.23.1)\n",
      "Requirement already satisfied: yacs>=0.1.6 in /home/s5627488/miniforge3/envs/smpler-x/lib/python3.8/site-packages (from fvcore) (0.1.8)\n",
      "Requirement already satisfied: pyyaml>=5.1 in /home/s5627488/miniforge3/envs/smpler-x/lib/python3.8/site-packages (from fvcore) (6.0.1)\n",
      "Requirement already satisfied: tqdm in /home/s5627488/miniforge3/envs/smpler-x/lib/python3.8/site-packages (from fvcore) (4.66.4)\n",
      "Requirement already satisfied: termcolor>=1.1 in /home/s5627488/miniforge3/envs/smpler-x/lib/python3.8/site-packages (from fvcore) (2.4.0)\n",
      "Requirement already satisfied: Pillow in /home/s5627488/miniforge3/envs/smpler-x/lib/python3.8/site-packages (from fvcore) (8.2.0)\n",
      "Requirement already satisfied: tabulate in /home/s5627488/miniforge3/envs/smpler-x/lib/python3.8/site-packages (from fvcore) (0.9.0)\n",
      "Requirement already satisfied: typing-extensions in /home/s5627488/miniforge3/envs/smpler-x/lib/python3.8/site-packages (from iopath) (4.11.0)\n",
      "Requirement already satisfied: portalocker in /home/s5627488/miniforge3/envs/smpler-x/lib/python3.8/site-packages (from iopath) (2.8.2)\n",
      "Note: you may need to restart the kernel to use updated packages.\n",
      "Looking in links: https://dl.fbaipublicfiles.com/pytorch3d/packaging/wheels/py38_cu113_pyt1120/download.html\n",
      "Requirement already satisfied: pytorch3d in /home/s5627488/miniforge3/envs/smpler-x/lib/python3.8/site-packages (0.7.2)\n",
      "Requirement already satisfied: fvcore in /home/s5627488/miniforge3/envs/smpler-x/lib/python3.8/site-packages (from pytorch3d) (0.1.5.post20221221)\n",
      "Requirement already satisfied: iopath in /home/s5627488/miniforge3/envs/smpler-x/lib/python3.8/site-packages (from pytorch3d) (0.1.10)\n",
      "Requirement already satisfied: numpy in /home/s5627488/miniforge3/envs/smpler-x/lib/python3.8/site-packages (from fvcore->pytorch3d) (1.23.1)\n",
      "Requirement already satisfied: yacs>=0.1.6 in /home/s5627488/miniforge3/envs/smpler-x/lib/python3.8/site-packages (from fvcore->pytorch3d) (0.1.8)\n",
      "Requirement already satisfied: pyyaml>=5.1 in /home/s5627488/miniforge3/envs/smpler-x/lib/python3.8/site-packages (from fvcore->pytorch3d) (6.0.1)\n",
      "Requirement already satisfied: tqdm in /home/s5627488/miniforge3/envs/smpler-x/lib/python3.8/site-packages (from fvcore->pytorch3d) (4.66.4)\n",
      "Requirement already satisfied: termcolor>=1.1 in /home/s5627488/miniforge3/envs/smpler-x/lib/python3.8/site-packages (from fvcore->pytorch3d) (2.4.0)\n",
      "Requirement already satisfied: Pillow in /home/s5627488/miniforge3/envs/smpler-x/lib/python3.8/site-packages (from fvcore->pytorch3d) (8.2.0)\n",
      "Requirement already satisfied: tabulate in /home/s5627488/miniforge3/envs/smpler-x/lib/python3.8/site-packages (from fvcore->pytorch3d) (0.9.0)\n",
      "Requirement already satisfied: typing-extensions in /home/s5627488/miniforge3/envs/smpler-x/lib/python3.8/site-packages (from iopath->pytorch3d) (4.11.0)\n",
      "Requirement already satisfied: portalocker in /home/s5627488/miniforge3/envs/smpler-x/lib/python3.8/site-packages (from iopath->pytorch3d) (2.8.2)\n",
      "Note: you may need to restart the kernel to use updated packages.\n"
     ]
    }
   ],
   "source": [
    "import sys\n",
    "import torch\n",
    "pyt_version_str=torch.__version__.split(\"+\")[0].replace(\".\", \"\")\n",
    "version_str=\"\".join([\n",
    "    f\"py3{sys.version_info.minor}_cu\",\n",
    "    torch.version.cuda.replace(\".\",\"\"),\n",
    "    f\"_pyt{pyt_version_str}\"\n",
    "])\n",
    "%pip install fvcore iopath\n",
    "%pip install --no-index --no-cache-dir pytorch3d -f https://dl.fbaipublicfiles.com/pytorch3d/packaging/wheels/{version_str}/download.html"
   ]
  }
 ],
 "metadata": {
  "kernelspec": {
   "display_name": "Python 3",
   "language": "python",
   "name": "python3"
  },
  "language_info": {
   "codemirror_mode": {
    "name": "ipython",
    "version": 3
   },
   "file_extension": ".py",
   "mimetype": "text/x-python",
   "name": "python",
   "nbconvert_exporter": "python",
   "pygments_lexer": "ipython3",
   "version": "3.8.19"
  },
  "orig_nbformat": 4
 },
 "nbformat": 4,
 "nbformat_minor": 2
}
