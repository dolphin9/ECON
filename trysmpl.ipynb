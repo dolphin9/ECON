{
 "cells": [
  {
   "cell_type": "code",
   "execution_count": 8,
   "metadata": {},
   "outputs": [],
   "source": [
    "from lib.dataset.mesh_util import *\n",
    "from lib.dataset.TestDataset import TestDataset"
   ]
  },
  {
   "cell_type": "code",
   "execution_count": 9,
   "metadata": {},
   "outputs": [],
   "source": [
    "SMPLX_object = SMPLX()"
   ]
  },
  {
   "cell_type": "code",
   "execution_count": 10,
   "metadata": {},
   "outputs": [
    {
     "data": {
      "text/plain": [
       "device(type='cuda')"
      ]
     },
     "execution_count": 10,
     "metadata": {},
     "output_type": "execute_result"
    }
   ],
   "source": [
    "if torch.cuda.is_available():\n",
    "    device = torch.device(\"cuda\")\n",
    "else:\n",
    "    device = torch.device(\"cpu\")\n",
    "device"
   ]
  },
  {
   "attachments": {},
   "cell_type": "markdown",
   "metadata": {},
   "source": [
    "Type of each parameter in 'dataset_param':\n",
    "\n",
    "    <class 'str'>\n",
    "    <class 'NoneType'>\n",
    "    <class 'bool'>\n",
    "    <class 'str'>\n",
    "    <class 'int'>\n",
    "    <class 'bool'>"
   ]
  },
  {
   "cell_type": "code",
   "execution_count": 11,
   "metadata": {},
   "outputs": [],
   "source": [
    "dataset_param = {\n",
    "        \"image_dir\": './examples/testimg/',\n",
    "        \"seg_dir\": None,\n",
    "        \"use_seg\": True,    # w/ or w/o segmentation\n",
    "        \"hps_type\": 'pymafx' ,   # pymafx/pixie\n",
    "        \"vol_res\": 256,  #cfg.vol_res,\n",
    "        \"single\": False, #args.multi,\n",
    "    }\n"
   ]
  },
  {
   "cell_type": "code",
   "execution_count": 12,
   "metadata": {},
   "outputs": [
    {
     "ename": "KeyError",
     "evalue": "'seg_dir'",
     "output_type": "error",
     "traceback": [
      "\u001b[0;31m---------------------------------------------------------------------------\u001b[0m",
      "\u001b[0;31mKeyError\u001b[0m                                  Traceback (most recent call last)",
      "Cell \u001b[0;32mIn[12], line 1\u001b[0m\n\u001b[0;32m----> 1\u001b[0m dataset \u001b[39m=\u001b[39m TestDataset(dataset_param, device)\n",
      "File \u001b[0;32m~/ECON/lib/dataset/TestDataset.py:53\u001b[0m, in \u001b[0;36mTestDataset.__init__\u001b[0;34m(self, cfg, device)\u001b[0m\n\u001b[1;32m     50\u001b[0m \u001b[39mdef\u001b[39;00m \u001b[39m__init__\u001b[39m(\u001b[39mself\u001b[39m, cfg, device):\n\u001b[1;32m     52\u001b[0m     \u001b[39mself\u001b[39m\u001b[39m.\u001b[39mimage_dir \u001b[39m=\u001b[39m cfg[\u001b[39m\"\u001b[39m\u001b[39mimage_dir\u001b[39m\u001b[39m\"\u001b[39m]\n\u001b[0;32m---> 53\u001b[0m     \u001b[39mself\u001b[39m\u001b[39m.\u001b[39mseg_dir \u001b[39m=\u001b[39m cfg[\u001b[39m\"\u001b[39;49m\u001b[39mseg_dir\u001b[39;49m\u001b[39m\"\u001b[39;49m]\n\u001b[1;32m     54\u001b[0m     \u001b[39mself\u001b[39m\u001b[39m.\u001b[39muse_seg \u001b[39m=\u001b[39m cfg[\u001b[39m\"\u001b[39m\u001b[39muse_seg\u001b[39m\u001b[39m\"\u001b[39m]\n\u001b[1;32m     55\u001b[0m     \u001b[39mself\u001b[39m\u001b[39m.\u001b[39mhps_type \u001b[39m=\u001b[39m \u001b[39m\"\u001b[39m\u001b[39mpymafx\u001b[39m\u001b[39m\"\u001b[39m\u001b[39m#cfg[\"hps_type\"]\u001b[39;00m\n",
      "\u001b[0;31mKeyError\u001b[0m: 'seg_dir'"
     ]
    }
   ],
   "source": [
    "dataset = TestDataset(dataset_param, device)"
   ]
  }
 ],
 "metadata": {
  "kernelspec": {
   "display_name": "Python 3",
   "language": "python",
   "name": "python3"
  },
  "language_info": {
   "codemirror_mode": {
    "name": "ipython",
    "version": 3
   },
   "file_extension": ".py",
   "mimetype": "text/x-python",
   "name": "python",
   "nbconvert_exporter": "python",
   "pygments_lexer": "ipython3",
   "version": "3.8.19"
  },
  "orig_nbformat": 4
 },
 "nbformat": 4,
 "nbformat_minor": 2
}
