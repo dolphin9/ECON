{
 "cells": [
  {
   "cell_type": "code",
   "execution_count": 1,
   "metadata": {},
   "outputs": [
    {
     "name": "stdout",
     "output_type": "stream",
     "text": [
      "Jupyter environment detected. Enabling Open3D WebVisualizer.\n",
      "[Open3D INFO] WebRTC GUI backend enabled.\n",
      "[Open3D INFO] WebRTCWindowSystem: HTTP handshake server disabled.\n"
     ]
    }
   ],
   "source": [
    "from lib.dataset.mesh_util import *\n",
    "from lib.dataset.TestDataset import TestDataset\n",
    "from lib.common.config import cfg\n",
    "from lib.pymafx.core import path_config\n",
    "import os.path as osp"
   ]
  },
  {
   "cell_type": "code",
   "execution_count": 2,
   "metadata": {},
   "outputs": [],
   "source": [
    "SMPLX_object = SMPLX()"
   ]
  },
  {
   "cell_type": "code",
   "execution_count": 3,
   "metadata": {},
   "outputs": [
    {
     "data": {
      "text/plain": [
       "device(type='cuda')"
      ]
     },
     "execution_count": 3,
     "metadata": {},
     "output_type": "execute_result"
    }
   ],
   "source": [
    "if torch.cuda.is_available():\n",
    "    device = torch.device(\"cuda\")\n",
    "else:\n",
    "    device = torch.device(\"cpu\")\n",
    "device"
   ]
  },
  {
   "attachments": {},
   "cell_type": "markdown",
   "metadata": {},
   "source": [
    "Type of each parameter in 'dataset_param':\n",
    "\n",
    "    <class 'str'>\n",
    "    <class 'NoneType'>\n",
    "    <class 'bool'>\n",
    "    <class 'str'>\n",
    "    <class 'int'>\n",
    "    <class 'bool'>"
   ]
  },
  {
   "cell_type": "code",
   "execution_count": 4,
   "metadata": {},
   "outputs": [],
   "source": [
    "dataset_param = {\n",
    "        \"image_dir\": './examples/testimg/',\n",
    "        \"seg_dir\": None,\n",
    "        \"use_seg\": True,    # w/ or w/o segmentation\n",
    "        \"hps_type\": 'pymafx' ,   # pymafx/pixie\n",
    "        \"vol_res\": cfg.vol_res,\n",
    "        \"single\": False, #args.multi,\n",
    "    }\n"
   ]
  },
  {
   "cell_type": "code",
   "execution_count": 5,
   "metadata": {},
   "outputs": [
    {
     "data": {
      "text/plain": [
       "True"
      ]
     },
     "execution_count": 5,
     "metadata": {},
     "output_type": "execute_result"
    }
   ],
   "source": [
    "path_config.pymafx_data_dir = \"./data/HPS/pymafx_data\"\n",
    "\n",
    "os.path.exists(path_config.pymafx_data_dir)"
   ]
  },
  {
   "cell_type": "code",
   "execution_count": 6,
   "metadata": {},
   "outputs": [
    {
     "ename": "AttributeError",
     "evalue": "MODEL",
     "output_type": "error",
     "traceback": [
      "\u001b[0;31m---------------------------------------------------------------------------\u001b[0m",
      "\u001b[0;31mAttributeError\u001b[0m                            Traceback (most recent call last)",
      "Cell \u001b[0;32mIn[6], line 1\u001b[0m\n\u001b[0;32m----> 1\u001b[0m dataset \u001b[39m=\u001b[39m TestDataset(dataset_param, device)\n",
      "File \u001b[0;32m~/ECON/lib/dataset/TestDataset.py:73\u001b[0m, in \u001b[0;36mTestDataset.__init__\u001b[0;34m(self, cfg, device)\u001b[0m\n\u001b[1;32m     70\u001b[0m \u001b[39mself\u001b[39m\u001b[39m.\u001b[39msmpl_data \u001b[39m=\u001b[39m SMPLX()\n\u001b[1;32m     72\u001b[0m \u001b[39mif\u001b[39;00m \u001b[39mself\u001b[39m\u001b[39m.\u001b[39mhps_type \u001b[39m==\u001b[39m \u001b[39m\"\u001b[39m\u001b[39mpymafx\u001b[39m\u001b[39m\"\u001b[39m:\n\u001b[0;32m---> 73\u001b[0m     \u001b[39mself\u001b[39m\u001b[39m.\u001b[39mhps \u001b[39m=\u001b[39m pymaf_net(path_config\u001b[39m.\u001b[39;49mSMPL_MEAN_PARAMS, pretrained\u001b[39m=\u001b[39;49m\u001b[39mTrue\u001b[39;49;00m)\u001b[39m.\u001b[39mto(\u001b[39mself\u001b[39m\u001b[39m.\u001b[39mdevice)\n\u001b[1;32m     74\u001b[0m     \u001b[39mself\u001b[39m\u001b[39m.\u001b[39mhps\u001b[39m.\u001b[39mload_state_dict(torch\u001b[39m.\u001b[39mload(path_config\u001b[39m.\u001b[39mCHECKPOINT_FILE)[\u001b[39m\"\u001b[39m\u001b[39mmodel\u001b[39m\u001b[39m\"\u001b[39m], strict\u001b[39m=\u001b[39m\u001b[39mTrue\u001b[39;00m)\n\u001b[1;32m     75\u001b[0m     \u001b[39mself\u001b[39m\u001b[39m.\u001b[39mhps\u001b[39m.\u001b[39meval()\n",
      "File \u001b[0;32m~/ECON/lib/pymafx/models/pymaf_net.py:1667\u001b[0m, in \u001b[0;36mpymaf_net\u001b[0;34m(smpl_mean_params, pretrained, device)\u001b[0m\n\u001b[1;32m   1662\u001b[0m \u001b[39mdef\u001b[39;00m \u001b[39mpymaf_net\u001b[39m(smpl_mean_params, pretrained\u001b[39m=\u001b[39m\u001b[39mTrue\u001b[39;00m, device\u001b[39m=\u001b[39mtorch\u001b[39m.\u001b[39mdevice(\u001b[39m'\u001b[39m\u001b[39mcuda\u001b[39m\u001b[39m'\u001b[39m)):\n\u001b[1;32m   1663\u001b[0m \u001b[39m    \u001b[39m\u001b[39m\"\"\" Constructs an PyMAF model with ResNet50 backbone.\u001b[39;00m\n\u001b[1;32m   1664\u001b[0m \u001b[39m    Args:\u001b[39;00m\n\u001b[1;32m   1665\u001b[0m \u001b[39m        pretrained (bool): If True, returns a model pre-trained on ImageNet\u001b[39;00m\n\u001b[1;32m   1666\u001b[0m \u001b[39m    \"\"\"\u001b[39;00m\n\u001b[0;32m-> 1667\u001b[0m     model \u001b[39m=\u001b[39m PyMAF(smpl_mean_params, pretrained, device)\n\u001b[1;32m   1668\u001b[0m     \u001b[39mreturn\u001b[39;00m model\n",
      "File \u001b[0;32m~/ECON/lib/pymafx/models/pymaf_net.py:819\u001b[0m, in \u001b[0;36mPyMAF.__init__\u001b[0;34m(self, smpl_mean_params, pretrained, device)\u001b[0m\n\u001b[1;32m    815\u001b[0m \u001b[39msuper\u001b[39m()\u001b[39m.\u001b[39m\u001b[39m__init__\u001b[39m()\n\u001b[1;32m    817\u001b[0m \u001b[39mself\u001b[39m\u001b[39m.\u001b[39mdevice \u001b[39m=\u001b[39m device\n\u001b[0;32m--> 819\u001b[0m \u001b[39mself\u001b[39m\u001b[39m.\u001b[39msmpl_mode \u001b[39m=\u001b[39m (cfg\u001b[39m.\u001b[39;49mMODEL\u001b[39m.\u001b[39mMESH_MODEL \u001b[39m==\u001b[39m \u001b[39m'\u001b[39m\u001b[39msmpl\u001b[39m\u001b[39m'\u001b[39m)\n\u001b[1;32m    820\u001b[0m \u001b[39mself\u001b[39m\u001b[39m.\u001b[39msmplx_mode \u001b[39m=\u001b[39m (cfg\u001b[39m.\u001b[39mMODEL\u001b[39m.\u001b[39mMESH_MODEL \u001b[39m==\u001b[39m \u001b[39m'\u001b[39m\u001b[39msmplx\u001b[39m\u001b[39m'\u001b[39m)\n\u001b[1;32m    822\u001b[0m \u001b[39massert\u001b[39;00m cfg\u001b[39m.\u001b[39mTRAIN\u001b[39m.\u001b[39mBHF_MODE \u001b[39min\u001b[39;00m [\n\u001b[1;32m    823\u001b[0m     \u001b[39m'\u001b[39m\u001b[39mbody_only\u001b[39m\u001b[39m'\u001b[39m, \u001b[39m'\u001b[39m\u001b[39mhand_only\u001b[39m\u001b[39m'\u001b[39m, \u001b[39m'\u001b[39m\u001b[39mface_only\u001b[39m\u001b[39m'\u001b[39m, \u001b[39m'\u001b[39m\u001b[39mbody_hand\u001b[39m\u001b[39m'\u001b[39m, \u001b[39m'\u001b[39m\u001b[39mfull_body\u001b[39m\u001b[39m'\u001b[39m\n\u001b[1;32m    824\u001b[0m ]\n",
      "File \u001b[0;32m~/miniforge3/envs/econ/lib/python3.8/site-packages/yacs/config.py:141\u001b[0m, in \u001b[0;36mCfgNode.__getattr__\u001b[0;34m(self, name)\u001b[0m\n\u001b[1;32m    139\u001b[0m     \u001b[39mreturn\u001b[39;00m \u001b[39mself\u001b[39m[name]\n\u001b[1;32m    140\u001b[0m \u001b[39melse\u001b[39;00m:\n\u001b[0;32m--> 141\u001b[0m     \u001b[39mraise\u001b[39;00m \u001b[39mAttributeError\u001b[39;00m(name)\n",
      "\u001b[0;31mAttributeError\u001b[0m: MODEL"
     ]
    }
   ],
   "source": [
    "dataset = TestDataset(dataset_param, device)"
   ]
  }
 ],
 "metadata": {
  "kernelspec": {
   "display_name": "Python 3",
   "language": "python",
   "name": "python3"
  },
  "language_info": {
   "codemirror_mode": {
    "name": "ipython",
    "version": 3
   },
   "file_extension": ".py",
   "mimetype": "text/x-python",
   "name": "python",
   "nbconvert_exporter": "python",
   "pygments_lexer": "ipython3",
   "version": "3.8.19"
  },
  "orig_nbformat": 4
 },
 "nbformat": 4,
 "nbformat_minor": 2
}
